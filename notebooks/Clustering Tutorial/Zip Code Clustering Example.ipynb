{
 "cells": [
  {
   "cell_type": "markdown",
   "metadata": {},
   "source": [
    "# Zip Code Clustering Tutorial\n",
    "\n",
    "In this tutorial, we illustrate clustering with the K-Means algorithm using zip codes and their associated GPS coordinates.  Our data set contains entries for ~33,000 zip codes.  We find that these zip codes can be clustered into approximately 6-8 clusters, corresponding to larger geographic regions of the U.S. like New England or the Midwest."
   ]
  },
  {
   "cell_type": "code",
   "execution_count": 1,
   "metadata": {},
   "outputs": [],
   "source": [
    "import numpy as np\n",
    "import pandas as pd\n",
    "import matplotlib.pyplot as plt\n",
    "import seaborn as sns\n",
    "\n",
    "from sklearn.cluster import KMeans\n",
    "\n",
    "%matplotlib inline"
   ]
  },
  {
   "cell_type": "markdown",
   "metadata": {},
   "source": [
    "## Load Data\n",
    "\n",
    "We load our data set from a CSV file into a Pandas DataFrame.  We have ~33,000 zip codes each with a corresponding city, state, latitude and longitude."
   ]
  },
  {
   "cell_type": "code",
   "execution_count": 2,
   "metadata": {},
   "outputs": [],
   "source": [
    "zip_codes = pd.read_csv(\"zips.csv\")"
   ]
  },
  {
   "cell_type": "code",
   "execution_count": 3,
   "metadata": {},
   "outputs": [
    {
     "data": {
      "text/html": [
       "<div>\n",
       "<style scoped>\n",
       "    .dataframe tbody tr th:only-of-type {\n",
       "        vertical-align: middle;\n",
       "    }\n",
       "\n",
       "    .dataframe tbody tr th {\n",
       "        vertical-align: top;\n",
       "    }\n",
       "\n",
       "    .dataframe thead th {\n",
       "        text-align: right;\n",
       "    }\n",
       "</style>\n",
       "<table border=\"1\" class=\"dataframe\">\n",
       "  <thead>\n",
       "    <tr style=\"text-align: right;\">\n",
       "      <th></th>\n",
       "      <th>zip code</th>\n",
       "      <th>state abbreviation</th>\n",
       "      <th>latitude</th>\n",
       "      <th>longitude</th>\n",
       "      <th>city</th>\n",
       "      <th>state</th>\n",
       "    </tr>\n",
       "  </thead>\n",
       "  <tbody>\n",
       "    <tr>\n",
       "      <th>0</th>\n",
       "      <td>35004</td>\n",
       "      <td>AL</td>\n",
       "      <td>33.606379</td>\n",
       "      <td>-86.50249</td>\n",
       "      <td>Moody</td>\n",
       "      <td>Alabama</td>\n",
       "    </tr>\n",
       "    <tr>\n",
       "      <th>1</th>\n",
       "      <td>35005</td>\n",
       "      <td>AL</td>\n",
       "      <td>33.592585</td>\n",
       "      <td>-86.95969</td>\n",
       "      <td>Adamsville</td>\n",
       "      <td>Alabama</td>\n",
       "    </tr>\n",
       "    <tr>\n",
       "      <th>2</th>\n",
       "      <td>35006</td>\n",
       "      <td>AL</td>\n",
       "      <td>33.451714</td>\n",
       "      <td>-87.23957</td>\n",
       "      <td>Adger</td>\n",
       "      <td>Alabama</td>\n",
       "    </tr>\n",
       "    <tr>\n",
       "      <th>3</th>\n",
       "      <td>35007</td>\n",
       "      <td>AL</td>\n",
       "      <td>33.232422</td>\n",
       "      <td>-86.80871</td>\n",
       "      <td>Alabaster</td>\n",
       "      <td>Alabama</td>\n",
       "    </tr>\n",
       "    <tr>\n",
       "      <th>4</th>\n",
       "      <td>35010</td>\n",
       "      <td>AL</td>\n",
       "      <td>32.903432</td>\n",
       "      <td>-85.92669</td>\n",
       "      <td>Alexander City</td>\n",
       "      <td>Alabama</td>\n",
       "    </tr>\n",
       "  </tbody>\n",
       "</table>\n",
       "</div>"
      ],
      "text/plain": [
       "  zip code state abbreviation   latitude  longitude            city    state\n",
       "0    35004                 AL  33.606379  -86.50249           Moody  Alabama\n",
       "1    35005                 AL  33.592585  -86.95969      Adamsville  Alabama\n",
       "2    35006                 AL  33.451714  -87.23957           Adger  Alabama\n",
       "3    35007                 AL  33.232422  -86.80871       Alabaster  Alabama\n",
       "4    35010                 AL  32.903432  -85.92669  Alexander City  Alabama"
      ]
     },
     "execution_count": 3,
     "metadata": {},
     "output_type": "execute_result"
    }
   ],
   "source": [
    "zip_codes.head()"
   ]
  },
  {
   "cell_type": "code",
   "execution_count": 4,
   "metadata": {},
   "outputs": [
    {
     "data": {
      "text/plain": [
       "33178"
      ]
     },
     "execution_count": 4,
     "metadata": {},
     "output_type": "execute_result"
    }
   ],
   "source": [
    "len(zip_codes)"
   ]
  },
  {
   "cell_type": "code",
   "execution_count": 5,
   "metadata": {},
   "outputs": [
    {
     "data": {
      "text/plain": [
       "zip code               object\n",
       "state abbreviation     object\n",
       "latitude              float64\n",
       "longitude             float64\n",
       "city                   object\n",
       "state                  object\n",
       "dtype: object"
      ]
     },
     "execution_count": 5,
     "metadata": {},
     "output_type": "execute_result"
    }
   ],
   "source": [
    "zip_codes.dtypes"
   ]
  },
  {
   "cell_type": "markdown",
   "metadata": {},
   "source": [
    "## Visualizing the Zip Codes\n",
    "\n",
    "Before we cluste the zip codes, we can plot the zip codes by their longitude and latitude using Seaborn's `jointplot`."
   ]
  },
  {
   "cell_type": "code",
   "execution_count": 6,
   "metadata": {},
   "outputs": [
    {
     "name": "stderr",
     "output_type": "stream",
     "text": [
      "C:\\Users\\nowling\\AppData\\Local\\Continuum\\anaconda3\\lib\\site-packages\\matplotlib\\axes\\_axes.py:6462: UserWarning: The 'normed' kwarg is deprecated, and has been replaced by the 'density' kwarg.\n",
      "  warnings.warn(\"The 'normed' kwarg is deprecated, and has been \"\n",
      "C:\\Users\\nowling\\AppData\\Local\\Continuum\\anaconda3\\lib\\site-packages\\matplotlib\\axes\\_axes.py:6462: UserWarning: The 'normed' kwarg is deprecated, and has been replaced by the 'density' kwarg.\n",
      "  warnings.warn(\"The 'normed' kwarg is deprecated, and has been \"\n"
     ]
    },
    {
     "data": {
      "text/plain": [
       "<seaborn.axisgrid.JointGrid at 0x2ad3974a710>"
      ]
     },
     "execution_count": 6,
     "metadata": {},
     "output_type": "execute_result"
    },
    {
     "data": {
      "image/png": "[encoded data removed]",
      "text/plain": [
       "<Figure size 432x432 with 3 Axes>"
      ]
     },
     "metadata": {},
     "output_type": "display_data"
    }
   ],
   "source": [
    "sns.jointplot(zip_codes[\"longitude\"], zip_codes[\"latitude\"], kind=\"scatter\")"
   ]
  },
  {
   "cell_type": "markdown",
   "metadata": {},
   "source": [
    "The plot of the zip codes recreates the shape of the continental U.S., Alaska, Hawaii, and Peurto Rico / Gaum."
   ]
  },
  {
   "cell_type": "markdown",
   "metadata": {},
   "source": [
    "## Clustering\n",
    "\n",
    "We'll now cluster the zip codes using the [K-Means algorithm](http://scikit-learn.org/stable/modules/generated/sklearn.cluster.KMeans.html).  K-Means requires that we specify the parameter `k`, the number of clusters.  A common way of finding `k` is to make and interpret a silhouette plot.  We generate this plot by clustering the data points with different values for `k`, calculating the inertia or sum of squared errors for each `k`, and then plotting the inerta vs the values of `k`.  We then look for the value of `k` that comes after the \"elbow\" in the plot."
   ]
  },
  {
   "cell_type": "code",
   "execution_count": 7,
   "metadata": {},
   "outputs": [
    {
     "data": {
      "text/plain": [
       "Text(0,0.5,'Inertia')"
      ]
     },
     "execution_count": 7,
     "metadata": {},
     "output_type": "execute_result"
    },
    {
     "data": {
      "image/png": "[encoded data removed]",
      "text/plain": [
       "<Figure size 432x288 with 1 Axes>"
      ]
     },
     "metadata": {},
     "output_type": "display_data"
    }
   ],
   "source": [
    "features = zip_codes[[\"longitude\", \"latitude\"]].values\n",
    "\n",
    "inertias = []\n",
    "ks = list(range(2, 20, 2))\n",
    "for k in ks:\n",
    "    kmeans = KMeans(n_clusters = k)\n",
    "    kmeans.fit(features)\n",
    "    inertias.append(kmeans.inertia_)\n",
    "    \n",
    "plt.plot(ks, inertias, \"k.-\")\n",
    "plt.xlabel(\"Number of Clusters\", fontsize=16)\n",
    "plt.ylabel(\"Inertia\", fontsize=16)"
   ]
  },
  {
   "cell_type": "markdown",
   "metadata": {},
   "source": [
    "Our silhouette plot indicates that 6, 8, or 10 clusters would be suitable choices for these data.  Let's try clustering the zip codes with value and plotting the cluster centers on top of our original zip codes to see how they relate."
   ]
  },
  {
   "cell_type": "code",
   "execution_count": 8,
   "metadata": {},
   "outputs": [
    {
     "data": {
      "text/plain": [
       "<matplotlib.collections.PathCollection at 0x2ad3a2ca9b0>"
      ]
     },
     "execution_count": 8,
     "metadata": {},
     "output_type": "execute_result"
    },
    {
     "data": {
      "image/png": "[encoded data removed]",
      "text/plain": [
       "<Figure size 432x288 with 1 Axes>"
      ]
     },
     "metadata": {},
     "output_type": "display_data"
    }
   ],
   "source": [
    "kmeans = KMeans(n_clusters = 6)\n",
    "kmeans.fit(features)\n",
    "\n",
    "plt.scatter(zip_codes[\"longitude\"], zip_codes[\"latitude\"])\n",
    "plt.scatter(kmeans.cluster_centers_[:, 0], kmeans.cluster_centers_[:, 1], color=\"orange\")"
   ]
  },
  {
   "cell_type": "code",
   "execution_count": 9,
   "metadata": {},
   "outputs": [
    {
     "data": {
      "text/plain": [
       "<matplotlib.collections.PathCollection at 0x2ad3b00e1d0>"
      ]
     },
     "execution_count": 9,
     "metadata": {},
     "output_type": "execute_result"
    },
    {
     "data": {
      "image/png": "[encoded data removed]",
      "text/plain": [
       "<Figure size 432x288 with 1 Axes>"
      ]
     },
     "metadata": {},
     "output_type": "display_data"
    }
   ],
   "source": [
    "kmeans = KMeans(n_clusters = 8)\n",
    "kmeans.fit(features)\n",
    "\n",
    "plt.scatter(zip_codes[\"longitude\"], zip_codes[\"latitude\"])\n",
    "plt.scatter(kmeans.cluster_centers_[:, 0], kmeans.cluster_centers_[:, 1], color=\"orange\")"
   ]
  },
  {
   "cell_type": "code",
   "execution_count": 10,
   "metadata": {},
   "outputs": [
    {
     "data": {
      "text/plain": [
       "<matplotlib.collections.PathCollection at 0x2ad3a30a860>"
      ]
     },
     "execution_count": 10,
     "metadata": {},
     "output_type": "execute_result"
    },
    {
     "data": {
      "image/png": "[encoded data removed]",
      "text/plain": [
       "<Figure size 432x288 with 1 Axes>"
      ]
     },
     "metadata": {},
     "output_type": "display_data"
    }
   ],
   "source": [
    "kmeans = KMeans(n_clusters = 10)\n",
    "kmeans.fit(features)\n",
    "\n",
    "plt.scatter(zip_codes[\"longitude\"], zip_codes[\"latitude\"])\n",
    "plt.scatter(kmeans.cluster_centers_[:, 0], kmeans.cluster_centers_[:, 1], color=\"orange\")"
   ]
  },
  {
   "cell_type": "markdown",
   "metadata": {},
   "source": [
    "With 10 clusters, we can represent the major geographic regions of the U.S. quite well.  Alaska and Hawaii each get one cluster.  The remaining clusters correspond to regions such as the Pacific coast, New England, and the South."
   ]
  },
  {
   "cell_type": "markdown",
   "metadata": {},
   "source": [
    "## Conclusions\n",
    "\n",
    "We've demonstrated the basics of how to use K-Means clustering.  We choose zip codes as a data set both because they are easy to visualize but also because many data sets incorporate a spatial component.  For example, consider the problems of predicting real estate prices or weather across the country.\n",
    "\n",
    "Unfortunately, zip codes do not always generalize well.  For example, records with zip codes for areas with small populations like Montana may be rare and may not present in a training set.  This can create a problem at predicting time when a record with one of the missing zip codes appears.\n",
    "\n",
    "To get around this problem, all zip codes could be converted to GPS coordinates.  The U.S. is quite a large country with substantial variations in geography and culture.  There may not be a simple linear relationship between latitude and longitude and a given outcome variable.\n",
    "\n",
    "Instead, we can generate categorical features from the clusters. We generate the clusters from the GPS coordinates of all U.S. zip codes like the one used here.  We can then transform the zip codes used in training and testing sets by mapping the zip codes to GPS coordinates and then assigning the GPS coordinates to clusters.  The cluster assignments can then be used as categorical variables."
   ]
  },
  {
   "cell_type": "code",
   "execution_count": null,
   "metadata": {},
   "outputs": [],
   "source": []
  }
 ],
 "metadata": {
  "kernelspec": {
   "display_name": "Python 3",
   "language": "python",
   "name": "python3"
  },
  "language_info": {
   "codemirror_mode": {
    "name": "ipython",
    "version": 3
   },
   "file_extension": ".py",
   "mimetype": "text/x-python",
   "name": "python",
   "nbconvert_exporter": "python",
   "pygments_lexer": "ipython3",
   "version": "3.6.5"
  }
 },
 "nbformat": 4,
 "nbformat_minor": 2
}
